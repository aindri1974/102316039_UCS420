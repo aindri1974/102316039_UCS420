{
  "cells": [
    {
      "cell_type": "markdown",
      "id": "a17d5ff7-a2de-4538-a580-38a3c2b20674",
      "metadata": {
        "id": "a17d5ff7-a2de-4538-a580-38a3c2b20674"
      },
      "source": [
        "**Assingment 1.1**: WAP to print your name three times"
      ]
    },
    {
      "cell_type": "code",
      "execution_count": 1,
      "id": "f09c9ffc-86a9-4c45-9817-b340d11450d7",
      "metadata": {
        "colab": {
          "base_uri": "https://localhost:8080/"
        },
        "id": "f09c9ffc-86a9-4c45-9817-b340d11450d7",
        "outputId": "21a6ec15-7b9f-402f-a6d9-4bf8cf5a7613"
      },
      "outputs": [
        {
          "output_type": "stream",
          "name": "stdout",
          "text": [
            "Aindri Singh\n",
            "Aindri Singh\n",
            "Aindri Singh\n"
          ]
        }
      ],
      "source": [
        "for i in range(3):\n",
        "    print(\"Aindri Singh\")"
      ]
    },
    {
      "cell_type": "markdown",
      "id": "c4bdcb6d-6af9-4b7e-8822-d0762089c8cc",
      "metadata": {
        "id": "c4bdcb6d-6af9-4b7e-8822-d0762089c8cc"
      },
      "source": [
        "**Assingment 2.1**: WAP to add three numbers and print the result."
      ]
    },
    {
      "cell_type": "code",
      "execution_count": 3,
      "id": "3ab88825-de27-48db-86b5-9be45217cdf3",
      "metadata": {
        "colab": {
          "base_uri": "https://localhost:8080/"
        },
        "id": "3ab88825-de27-48db-86b5-9be45217cdf3",
        "outputId": "bddaa4ea-71f0-42a9-937c-45acab90c07f"
      },
      "outputs": [
        {
          "output_type": "stream",
          "name": "stdout",
          "text": [
            "10+20+30 --> 60\n"
          ]
        }
      ],
      "source": [
        "a = 10\n",
        "b = 20\n",
        "c = 30\n",
        "d = a+b+c\n",
        "print(f\"{a}+{b}+{c} --> {d}\")"
      ]
    },
    {
      "cell_type": "markdown",
      "id": "21b56d65-2bbb-45bb-9da5-35a6980df940",
      "metadata": {
        "id": "21b56d65-2bbb-45bb-9da5-35a6980df940"
      },
      "source": [
        "**Assingment 2.2**: WAP to concatinate three strings and print the result."
      ]
    },
    {
      "cell_type": "code",
      "execution_count": 2,
      "id": "9a89128d-3086-476b-9cd1-263ffeace1c2",
      "metadata": {
        "colab": {
          "base_uri": "https://localhost:8080/"
        },
        "id": "9a89128d-3086-476b-9cd1-263ffeace1c2",
        "outputId": "ca435afe-9139-446e-f4fa-db09e3c57a4b"
      },
      "outputs": [
        {
          "output_type": "stream",
          "name": "stdout",
          "text": [
            "Hello +Aindri + Singh --> Hello Aindri Singh\n"
          ]
        }
      ],
      "source": [
        "hello = \"Hello \"\n",
        "a = \"Aindri\"\n",
        "b = \" Singh\"\n",
        "final = hello+a+b\n",
        "print (f\"{hello}+{a} +{b} --> {final}\")"
      ]
    },
    {
      "cell_type": "markdown",
      "id": "dff4832b-d66a-44f4-9caa-d647e92fe8ee",
      "metadata": {
        "id": "dff4832b-d66a-44f4-9caa-d647e92fe8ee"
      },
      "source": [
        "**Assingment 4.1**: WAP to print the table of 7, 9."
      ]
    },
    {
      "cell_type": "code",
      "execution_count": null,
      "id": "88bfd994-0116-4d09-bdee-fb50523e6ddc",
      "metadata": {
        "id": "88bfd994-0116-4d09-bdee-fb50523e6ddc",
        "outputId": "1e48ec99-6aa9-4c53-f667-b8779b5ee780"
      },
      "outputs": [
        {
          "name": "stdout",
          "output_type": "stream",
          "text": [
            "7 X 0 = 0\n",
            "7 X 1 = 7\n",
            "7 X 2 = 14\n",
            "7 X 3 = 21\n",
            "7 X 4 = 28\n",
            "7 X 5 = 35\n",
            "7 X 6 = 42\n",
            "7 X 7 = 49\n",
            "7 X 8 = 56\n",
            "7 X 9 = 63\n",
            "7 X 10 = 70\n"
          ]
        }
      ],
      "source": [
        "for i in range(11):\n",
        "    print(f\"7 X {i} = {7*i}\")"
      ]
    },
    {
      "cell_type": "code",
      "execution_count": null,
      "id": "13e2a3ab-de03-49a0-8c5a-d2b89150a3ff",
      "metadata": {
        "id": "13e2a3ab-de03-49a0-8c5a-d2b89150a3ff",
        "outputId": "0664154e-186e-44cc-e7d6-6d3508d8718f"
      },
      "outputs": [
        {
          "name": "stdout",
          "output_type": "stream",
          "text": [
            "9 X 0 = 0\n",
            "9 X 1 = 9\n",
            "9 X 2 = 18\n",
            "9 X 3 = 27\n",
            "9 X 4 = 36\n",
            "9 X 5 = 45\n",
            "9 X 6 = 54\n",
            "9 X 7 = 63\n",
            "9 X 8 = 72\n",
            "9 X 9 = 81\n",
            "9 X 10 = 90\n"
          ]
        }
      ],
      "source": [
        "for i in range(11):\n",
        "    print(f\"9 X {i} = {9*i}\")"
      ]
    },
    {
      "cell_type": "markdown",
      "id": "826ae456-92c3-48ef-9865-d8277e4e72e1",
      "metadata": {
        "id": "826ae456-92c3-48ef-9865-d8277e4e72e1"
      },
      "source": [
        "**Assingment 4.2**: WAP to print the table of n and n is given by user."
      ]
    },
    {
      "cell_type": "code",
      "execution_count": null,
      "id": "7e579433-eba7-4295-b260-9465f924ac6b",
      "metadata": {
        "id": "7e579433-eba7-4295-b260-9465f924ac6b",
        "outputId": "23d94d97-7549-4e19-9ca4-48410b6ae9bf"
      },
      "outputs": [
        {
          "name": "stdout",
          "output_type": "stream",
          "text": [
            "Enter the number 8\n"
          ]
        },
        {
          "name": "stdout",
          "output_type": "stream",
          "text": [
            "8 X 0 = 0\n",
            "8 X 1 = 8\n",
            "8 X 2 = 16\n",
            "8 X 3 = 24\n",
            "8 X 4 = 32\n",
            "8 X 5 = 40\n",
            "8 X 6 = 48\n",
            "8 X 7 = 56\n",
            "8 X 8 = 64\n",
            "8 X 9 = 72\n",
            "8 X 10 = 80\n"
          ]
        }
      ],
      "source": [
        "n = int(input(\"Enter the number\"))\n",
        "for i in range(11):\n",
        "    print(f\"{n} X {i} = {n*i}\")"
      ]
    },
    {
      "cell_type": "markdown",
      "id": "d9bd598e-c5e5-417f-95a6-f25bc8da69ab",
      "metadata": {
        "id": "d9bd598e-c5e5-417f-95a6-f25bc8da69ab"
      },
      "source": [
        "**Assingment 4.3**: WAP to add all the numbers from 1 to n and n is given by user."
      ]
    },
    {
      "cell_type": "code",
      "execution_count": null,
      "id": "77d822a8-78f1-4095-ad82-b644cbf14a75",
      "metadata": {
        "id": "77d822a8-78f1-4095-ad82-b644cbf14a75",
        "outputId": "8b8d19a9-b9a6-4693-896c-43e6944ff1a0"
      },
      "outputs": [
        {
          "name": "stdout",
          "output_type": "stream",
          "text": [
            "Enter the number 5\n"
          ]
        },
        {
          "name": "stdout",
          "output_type": "stream",
          "text": [
            "15.0\n"
          ]
        }
      ],
      "source": [
        "n = int(input(\"Enter the number\"))\n",
        "result = n*(n+1)/2\n",
        "print(result)"
      ]
    },
    {
      "cell_type": "markdown",
      "id": "04cc0dd4-e30d-4cc7-8c75-8920200a271f",
      "metadata": {
        "id": "04cc0dd4-e30d-4cc7-8c75-8920200a271f"
      },
      "source": [
        "**Assingment 5.1**: WAP to find max amoung three numbers and input from user. [Try max() function]"
      ]
    },
    {
      "cell_type": "code",
      "execution_count": null,
      "id": "d7bd36f8-4414-4e83-a22f-1cfda069c78b",
      "metadata": {
        "id": "d7bd36f8-4414-4e83-a22f-1cfda069c78b",
        "outputId": "a20d19a6-a708-405e-c9b4-95e6f98a5abb"
      },
      "outputs": [
        {
          "name": "stdout",
          "output_type": "stream",
          "text": [
            "Enter the 0th number 22\n",
            "Enter the 1th number 33333\n",
            "Enter the 2th number 1\n"
          ]
        },
        {
          "name": "stdout",
          "output_type": "stream",
          "text": [
            "[22, 33333, 1]\n",
            "33333\n"
          ]
        }
      ],
      "source": [
        "list1 = []\n",
        "for i in range(3):\n",
        "    list1.append(int(input(f\"Enter the {i}th number\")))\n",
        "print(list1)\n",
        "print(max(list1))\n"
      ]
    },
    {
      "cell_type": "markdown",
      "id": "96aec73b-c040-4fa6-a2cd-f33e093149c2",
      "metadata": {
        "id": "96aec73b-c040-4fa6-a2cd-f33e093149c2"
      },
      "source": [
        "**Assingment 5.2**: WAP to add all numbers divisible by 7 and 9 from 1 to n and n is given by the user."
      ]
    },
    {
      "cell_type": "code",
      "execution_count": null,
      "id": "257a1d55-17b3-4c5d-94a9-b4ef970724f5",
      "metadata": {
        "id": "257a1d55-17b3-4c5d-94a9-b4ef970724f5",
        "outputId": "d0e6a5b7-205c-4b8b-e229-98590b23eef3"
      },
      "outputs": [
        {
          "name": "stdout",
          "output_type": "stream",
          "text": [
            "Enter a No:  27\n"
          ]
        },
        {
          "name": "stdout",
          "output_type": "stream",
          "text": [
            "96\n"
          ]
        }
      ],
      "source": [
        "n = int(input(\"Enter a No: \"))\n",
        "sum=0\n",
        "for i in range(n+1):\n",
        "    if(i%7==0 or i%9==0):\n",
        "        sum+=i\n",
        "print(sum)\n"
      ]
    },
    {
      "cell_type": "markdown",
      "id": "632024d8-b671-4c95-b9de-0b75b56aaa31",
      "metadata": {
        "id": "632024d8-b671-4c95-b9de-0b75b56aaa31"
      },
      "source": [
        "**Assingment 5.3**: WAP to add all prime numbers from 1 to n and n is given by the user."
      ]
    },
    {
      "cell_type": "code",
      "execution_count": null,
      "id": "02cd7057-e261-41e1-8030-d0512701e30a",
      "metadata": {
        "id": "02cd7057-e261-41e1-8030-d0512701e30a",
        "outputId": "ffa4233a-38b2-44c3-d4a7-8a27f4c5c16a"
      },
      "outputs": [
        {
          "name": "stdout",
          "output_type": "stream",
          "text": [
            "Enter a No:  10\n"
          ]
        },
        {
          "name": "stdout",
          "output_type": "stream",
          "text": [
            "17\n"
          ]
        }
      ],
      "source": [
        "n = int(input(\"Enter a No: \"))\n",
        "sum =0\n",
        "for i in range(2, n+1):\n",
        "    flag =0\n",
        "    for div in range(2, int(i**0.5) + 1):\n",
        "    \tif  i%div == 0:\n",
        "    \t\tflag =1\n",
        "    \t\tbreak\n",
        "    if flag ==0:\n",
        "    \tsum+=i\n",
        "print(sum)"
      ]
    },
    {
      "cell_type": "markdown",
      "id": "5fef8c7d-0c4d-434a-9b84-7bd94ac7f103",
      "metadata": {
        "id": "5fef8c7d-0c4d-434a-9b84-7bd94ac7f103"
      },
      "source": [
        "**Assingment 6.1**: WAP using function that add all odd numbers from 1 to n, n is given by the user."
      ]
    },
    {
      "cell_type": "code",
      "execution_count": null,
      "id": "2ca932d2-6d12-40b9-9186-44a39630b0b4",
      "metadata": {
        "id": "2ca932d2-6d12-40b9-9186-44a39630b0b4",
        "outputId": "b7cf21f7-41d3-4915-e44d-85d14dd987d6"
      },
      "outputs": [
        {
          "name": "stdout",
          "output_type": "stream",
          "text": [
            "9\n"
          ]
        }
      ],
      "source": [
        "def oddAdder(n):\n",
        "    sum=0\n",
        "    for i in range(n+1):\n",
        "        if(i%2!=0):\n",
        "            sum+=i\n",
        "    return sum\n",
        "result = oddAdder(5)\n",
        "print(result)\n"
      ]
    },
    {
      "cell_type": "markdown",
      "id": "391b2289-eebf-42f0-a28d-19b9a6af8b7b",
      "metadata": {
        "id": "391b2289-eebf-42f0-a28d-19b9a6af8b7b"
      },
      "source": [
        "**Assingment 6.2**: WAP using function that add all prime numbers from 1 to n, n given by the user."
      ]
    },
    {
      "cell_type": "code",
      "execution_count": 4,
      "id": "498212e4-56ba-4816-8be0-9a60b075980b",
      "metadata": {
        "colab": {
          "base_uri": "https://localhost:8080/"
        },
        "id": "498212e4-56ba-4816-8be0-9a60b075980b",
        "outputId": "12a227d7-cf4f-4710-f3f3-d35646ae19e6"
      },
      "outputs": [
        {
          "output_type": "stream",
          "name": "stdout",
          "text": [
            "10\n"
          ]
        }
      ],
      "source": [
        "def oddAdder(n):\n",
        "    sum=0\n",
        "    for i in range(2, n+1):\n",
        "        flag=0\n",
        "        for div in range(2, int(i**0.5)+1):\n",
        "            if(i%div==0):\n",
        "                flag=1\n",
        "                break\n",
        "        if(flag==0):\n",
        "            sum+=i\n",
        "    return sum\n",
        "result = oddAdder(5)\n",
        "print(result)\n"
      ]
    }
  ],
  "metadata": {
    "kernelspec": {
      "display_name": "Python 3 (ipykernel)",
      "language": "python",
      "name": "python3"
    },
    "language_info": {
      "codemirror_mode": {
        "name": "ipython",
        "version": 3
      },
      "file_extension": ".py",
      "mimetype": "text/x-python",
      "name": "python",
      "nbconvert_exporter": "python",
      "pygments_lexer": "ipython3",
      "version": "3.12.4"
    },
    "colab": {
      "provenance": []
    }
  },
  "nbformat": 4,
  "nbformat_minor": 5
}